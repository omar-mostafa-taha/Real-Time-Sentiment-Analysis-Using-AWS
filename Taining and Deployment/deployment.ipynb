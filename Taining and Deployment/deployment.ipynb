{
 "cells": [
  {
   "cell_type": "code",
   "execution_count": 1,
   "id": "510a2322-f2b1-4bd6-a616-4e62f50a1200",
   "metadata": {
    "tags": []
   },
   "outputs": [
    {
     "name": "stdout",
     "output_type": "stream",
     "text": [
      "sagemaker.config INFO - Not applying SDK defaults from location: /etc/xdg/sagemaker/config.yaml\n",
      "sagemaker.config INFO - Not applying SDK defaults from location: /home/ec2-user/.config/sagemaker/config.yaml\n"
     ]
    }
   ],
   "source": [
    "import sagemaker.huggingface\n",
    "from sagemaker.huggingface.model import HuggingFaceModel"
   ]
  },
  {
   "cell_type": "code",
   "execution_count": 2,
   "id": "df9a84b7-dc75-45a4-b5ea-0ab93ab945e7",
   "metadata": {
    "tags": []
   },
   "outputs": [
    {
     "name": "stdout",
     "output_type": "stream",
     "text": [
      "sagemaker role arn: arn:aws:iam::235494815092:role/sagemaker-full-access\n"
     ]
    }
   ],
   "source": [
    "role = sagemaker.get_execution_role()\n",
    "print(f\"sagemaker role arn: {role}\")"
   ]
  },
  {
   "cell_type": "code",
   "execution_count": 6,
   "id": "4bd86688-64ca-474a-b9ba-b03d919939d7",
   "metadata": {
    "tags": []
   },
   "outputs": [],
   "source": [
    "huggingface_model = HuggingFaceModel(\n",
    "    model_data='s3://sagemaker-us-east-1-147299148530/model.tar.gz',  # Pre-trained model in S3\n",
    "    role=role,  # IAM role\n",
    "    transformers_version='4.26',\n",
    "    pytorch_version='1.13',\n",
    "    py_version='py39',\n",
    ")"
   ]
  },
  {
   "cell_type": "code",
   "execution_count": 7,
   "id": "3d5c0b5f-d871-470e-b3cc-72dc3b9b3daf",
   "metadata": {
    "tags": []
   },
   "outputs": [
    {
     "name": "stdout",
     "output_type": "stream",
     "text": [
      "-------!"
     ]
    }
   ],
   "source": [
    "# Deploy to a SageMaker endpoint\n",
    "predictor = huggingface_model.deploy(\n",
    "    initial_instance_count=1,\n",
    "    instance_type='ml.m4.xlarge'\n",
    ")\n"
   ]
  },
  {
   "cell_type": "code",
   "execution_count": 9,
   "id": "024a154e-8a7e-4057-933d-5ca649d3994a",
   "metadata": {
    "tags": []
   },
   "outputs": [
    {
     "name": "stdout",
     "output_type": "stream",
     "text": [
      "[{'label': 'LABEL_0', 'score': 0.7049562931060791}]\n"
     ]
    }
   ],
   "source": [
    "# Example text input\n",
    "test_data = {\n",
    "    'inputs': \"I hate machine learning!\"\n",
    "}\n",
    "\n",
    "# Perform inference\n",
    "response = predictor.predict(test_data)\n",
    "print(response)\n"
   ]
  },
  {
   "cell_type": "code",
   "execution_count": 11,
   "id": "bf537e61-669d-4e92-b1f2-84939d9fed10",
   "metadata": {
    "tags": []
   },
   "outputs": [
    {
     "name": "stdout",
     "output_type": "stream",
     "text": [
      "[{'label': 'LABEL_0', 'score': 0.7049562931060791}]\n"
     ]
    }
   ],
   "source": [
    "# import boto3\n",
    "# import json\n",
    "\n",
    "# # Initialize the client\n",
    "# client = boto3.client('sagemaker-runtime')\n",
    "\n",
    "# # Specify the endpoint name (replace 'your-endpoint-name' with actual name)\n",
    "# endpoint_name = 'huggingface-pytorch-inference-2024-10-12-15-02-29-742'\n",
    "\n",
    "# # Send a request to the SageMaker endpoint\n",
    "# response = client.invoke_endpoint(\n",
    "#     EndpointName=endpoint_name,\n",
    "#     ContentType='application/json',\n",
    "#     Body=json.dumps(test_data)\n",
    "# )\n",
    "\n",
    "# # Parse the response\n",
    "# result = json.loads(response['Body'].read().decode())\n",
    "# print(result)\n"
   ]
  },
  {
   "cell_type": "code",
   "execution_count": null,
   "id": "57ec434a-3107-44cd-b79e-68ecd0939de5",
   "metadata": {},
   "outputs": [],
   "source": []
  }
 ],
 "metadata": {
  "kernelspec": {
   "display_name": "conda_pytorch_p310",
   "language": "python",
   "name": "conda_pytorch_p310"
  },
  "language_info": {
   "codemirror_mode": {
    "name": "ipython",
    "version": 3
   },
   "file_extension": ".py",
   "mimetype": "text/x-python",
   "name": "python",
   "nbconvert_exporter": "python",
   "pygments_lexer": "ipython3",
   "version": "3.10.14"
  }
 },
 "nbformat": 4,
 "nbformat_minor": 5
}
